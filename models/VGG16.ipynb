{
  "nbformat": 4,
  "nbformat_minor": 0,
  "metadata": {
    "colab": {
      "provenance": []
    },
    "kernelspec": {
      "name": "python3",
      "display_name": "Python 3"
    },
    "language_info": {
      "name": "python"
    },
    "gpuClass": "premium",
    "accelerator": "GPU"
  },
  "cells": [
    {
      "cell_type": "code",
      "execution_count": 1,
      "metadata": {
        "id": "7ksfZypmKUo4"
      },
      "outputs": [],
      "source": [
        "import os\n",
        "from pathlib import Path\n",
        "import numpy as np\n",
        "import pandas as pd\n",
        "from PIL import Image\n",
        "import cv2\n",
        "import matplotlib.pyplot as plt\n",
        "%matplotlib inline \n",
        "import tensorflow as tf\n",
        "\n",
        "from keras.models import Model\n",
        "from keras.optimizers import Adam\n",
        "from keras.applications.vgg16 import VGG16, preprocess_input\n",
        "from keras.preprocessing.image import ImageDataGenerator\n",
        "from keras.callbacks import ModelCheckpoint, EarlyStopping, ReduceLROnPlateau\n",
        "from keras.layers import Dense, Dropout, Flatten\n",
        "\n",
        "\n",
        "from sklearn.metrics import accuracy_score\n",
        "from sklearn.model_selection import train_test_split\n",
        "from sklearn.preprocessing import LabelEncoder\n",
        "from sklearn.utils import shuffle\n",
        "#from keras.layers import Concatenate\n",
        "\n",
        "from tensorflow.keras import layers\n",
        "from tensorflow.keras import Input\n",
        "from tensorflow.keras.utils import to_categorical"
      ]
    },
    {
      "cell_type": "code",
      "source": [
        "from google.colab import drive\n",
        "drive.mount('/MyDrive')\n"
      ],
      "metadata": {
        "colab": {
          "base_uri": "https://localhost:8080/"
        },
        "id": "oMoMxgbaKfqY",
        "outputId": "5866ce45-8bad-4d88-9c05-b798e8f1718e"
      },
      "execution_count": 2,
      "outputs": [
        {
          "output_type": "stream",
          "name": "stdout",
          "text": [
            "Mounted at /MyDrive\n"
          ]
        }
      ]
    },
    {
      "cell_type": "code",
      "source": [
        "df = pd.read_pickle(\"/MyDrive/MyDrive/DataScience/even_class.pkl\")\n",
        "df.info()"
      ],
      "metadata": {
        "colab": {
          "base_uri": "https://localhost:8080/"
        },
        "id": "nG_GFUyuItQe",
        "outputId": "2a64f9d0-0708-492c-cea3-ee461466570f"
      },
      "execution_count": 3,
      "outputs": [
        {
          "output_type": "stream",
          "name": "stdout",
          "text": [
            "<class 'pandas.core.frame.DataFrame'>\n",
            "RangeIndex: 12784 entries, 0 to 12783\n",
            "Data columns (total 2 columns):\n",
            " #   Column    Non-Null Count  Dtype \n",
            "---  ------    --------------  ----- \n",
            " 0   label     12784 non-null  object\n",
            " 1   img_data  12784 non-null  object\n",
            "dtypes: object(2)\n",
            "memory usage: 199.9+ KB\n"
          ]
        }
      ]
    },
    {
      "cell_type": "code",
      "source": [
        "df['label'].value_counts()"
      ],
      "metadata": {
        "colab": {
          "base_uri": "https://localhost:8080/"
        },
        "id": "j-xz_kVvWcgn",
        "outputId": "808271db-ef20-41a4-d25a-a22d0f2ec2e9"
      },
      "execution_count": 4,
      "outputs": [
        {
          "output_type": "execute_result",
          "data": {
            "text/plain": [
              "basophil        1598\n",
              "neutrophil      1598\n",
              "monocyte        1598\n",
              "lymphocyte      1598\n",
              "platelet        1598\n",
              "eosinophil      1598\n",
              "ig              1598\n",
              "erythroblast    1598\n",
              "Name: label, dtype: int64"
            ]
          },
          "metadata": {},
          "execution_count": 4
        }
      ]
    },
    {
      "cell_type": "code",
      "source": [
        "encoder = LabelEncoder()\n",
        "df['label'] = encoder.fit_transform(df.label)\n",
        "df['label'].value_counts()"
      ],
      "metadata": {
        "colab": {
          "base_uri": "https://localhost:8080/"
        },
        "id": "KIUwYvje8soS",
        "outputId": "11d81f02-df47-4b70-917f-fc88dc7b1482"
      },
      "execution_count": 13,
      "outputs": [
        {
          "output_type": "execute_result",
          "data": {
            "text/plain": [
              "0    1598\n",
              "6    1598\n",
              "5    1598\n",
              "4    1598\n",
              "7    1598\n",
              "1    1598\n",
              "3    1598\n",
              "2    1598\n",
              "Name: label, dtype: int64"
            ]
          },
          "metadata": {},
          "execution_count": 13
        }
      ]
    },
    {
      "cell_type": "code",
      "source": [
        "#Dispaly an img_data\n",
        "plt.imshow(df['img_data'].iloc[600])"
      ],
      "metadata": {
        "colab": {
          "base_uri": "https://localhost:8080/",
          "height": 286
        },
        "id": "m2TkAzBKOwq1",
        "outputId": "2753a2a9-fa01-4ba7-a040-5cf355c1d03e"
      },
      "execution_count": 14,
      "outputs": [
        {
          "output_type": "execute_result",
          "data": {
            "text/plain": [
              "<matplotlib.image.AxesImage at 0x7f2c7f2bccd0>"
            ]
          },
          "metadata": {},
          "execution_count": 14
        },
        {
          "output_type": "display_data",
          "data": {
            "text/plain": [
              "<Figure size 432x288 with 1 Axes>"
            ],
            "image/png": "[encoded data removed]"
          },
          "metadata": {
            "needs_background": "light"
          }
        }
      ]
    },
    {
      "cell_type": "code",
      "source": [
        "# Shuffle the DataFrame, and split into train, validation and test sets\n",
        "\n",
        "shuffled_df = df.sample(frac=1)\n"
      ],
      "metadata": {
        "id": "qnCfhXC4Ow2K"
      },
      "execution_count": 15,
      "outputs": []
    },
    {
      "cell_type": "code",
      "source": [
        "data = df.img_data\n",
        "target = df.label\n",
        "\n",
        "#train test split\n",
        "X_train, X_test, y_train, y_test = train_test_split(data, target, test_size=.2)\n",
        "\n",
        "#train validation split\n",
        "X_train, X_val, y_train, y_val = train_test_split(X_train, y_train, test_size=.2)\n"
      ],
      "metadata": {
        "id": "xq0XgCVT-P2J"
      },
      "execution_count": 16,
      "outputs": []
    },
    {
      "cell_type": "code",
      "source": [
        "\n",
        "print(len(X_train), len(y_train))\n",
        "print(len(X_val), len(y_val))\n",
        "print(len(X_test), len(y_test))"
      ],
      "metadata": {
        "colab": {
          "base_uri": "https://localhost:8080/"
        },
        "id": "LgvDs6iwXBBT",
        "outputId": "7d5391cc-3cda-452b-a879-daaf541b522a"
      },
      "execution_count": 17,
      "outputs": [
        {
          "output_type": "stream",
          "name": "stdout",
          "text": [
            "8181 8181\n",
            "2046 2046\n",
            "2557 2557\n"
          ]
        }
      ]
    },
    {
      "cell_type": "code",
      "source": [
        "X_train = np.stack(X_train, axis=0)\n",
        "X_val = np.stack(X_val, axis=0)\n",
        "X_test = np.stack(X_test, axis=0)"
      ],
      "metadata": {
        "id": "uPuc98s8-P7o"
      },
      "execution_count": 18,
      "outputs": []
    },
    {
      "cell_type": "code",
      "source": [
        "y_train = to_categorical(y_train)\n",
        "y_val = to_categorical(y_val)\n",
        "y_test = to_categorical(y_test)"
      ],
      "metadata": {
        "id": "sT0u_u1jBuAG"
      },
      "execution_count": 19,
      "outputs": []
    },
    {
      "cell_type": "code",
      "source": [
        "#augmentation layer\n",
        "\n",
        "data_augmentation = tf.keras.Sequential([\n",
        "    layers.experimental.preprocessing.RandomFlip(\"horizontal_and_vertical\"),\n",
        "    layers.experimental.preprocessing.RandomRotation(0.2), \n",
        "    #layers.experimental.preprocessing.Rescaling(1./255),\n",
        "    #layers.experimental.preprocessing.RandomZoom(height_factor=(0.2, 0.3), width_factor=(0.2, 0.3)),\n",
        "    #layers.experimental.preprocessing.RandomTranslation(0.3, 0.3)\n",
        "    ])"
      ],
      "metadata": {
        "id": "SJIV95GEXrxs"
      },
      "execution_count": 32,
      "outputs": []
    },
    {
      "cell_type": "code",
      "source": [],
      "metadata": {
        "id": "6bndTngtlJnm"
      },
      "execution_count": null,
      "outputs": []
    },
    {
      "cell_type": "code",
      "source": [
        "# Define the Model\n",
        "\n",
        "def create_model(n_labels, fine_tune = 0):\n",
        "    base_model = VGG16(include_top=False, weights='imagenet', input_shape=(360, 360, 3))\n",
        "    \n",
        "    if fine_tune > 0:\n",
        "        for layer in base_model.layers[:-fine_tune]:\n",
        "            layer.trainable = False\n",
        "    else:\n",
        "        for layer in base_model.layers:\n",
        "            layer.trainable = False\n",
        "            \n",
        "    inputs    = Input(shape=(360, 360, 3))\n",
        "    rescale   = preprocess_input(inputs)\n",
        "    augmented = data_augmentation(rescale)\n",
        "    vgg16     = base_model(augmented)\n",
        "    pooling   = layers.GlobalAveragePooling2D()(vgg16)\n",
        "    dense1    = Dense(4096, activation='relu')(pooling)\n",
        "    dense2    = Dense(1072, activation='relu')(dense1)\n",
        "    dropout   = Dropout(0.2)(dense2)\n",
        "    outputs   = Dense(n_labels, activation='softmax')(dropout)\n",
        "    model     = Model(inputs=inputs, outputs=outputs)\n",
        "\n",
        "    return model"
      ],
      "metadata": {
        "id": "33CGxWjnPQAk"
      },
      "execution_count": 33,
      "outputs": []
    },
    {
      "cell_type": "code",
      "source": [
        "model = create_model(len(df['label'].unique()))\n",
        "model.summary()\n",
        "\n",
        "optimizer = Adam(learning_rate=0.001)\n",
        "\n",
        "# Compiles the model for training.\n",
        "model.compile(optimizer=optimizer, \n",
        "                  loss='categorical_crossentropy',\n",
        "                  metrics=['accuracy'])\n"
      ],
      "metadata": {
        "colab": {
          "base_uri": "https://localhost:8080/"
        },
        "id": "PLsWJKiIPQaG",
        "outputId": "4cd3d2c1-a602-461e-c8ff-8f7e514afdcd"
      },
      "execution_count": 34,
      "outputs": [
        {
          "output_type": "stream",
          "name": "stderr",
          "text": [
            "WARNING:tensorflow:Using a while_loop for converting RngReadAndSkip cause there is no registered converter for this op.\n",
            "WARNING:tensorflow:Using a while_loop for converting Bitcast cause there is no registered converter for this op.\n",
            "WARNING:tensorflow:Using a while_loop for converting Bitcast cause there is no registered converter for this op.\n",
            "WARNING:tensorflow:Using a while_loop for converting StatelessRandomUniformV2 cause there is no registered converter for this op.\n",
            "WARNING:tensorflow:Using a while_loop for converting ImageProjectiveTransformV3 cause there is no registered converter for this op.\n",
            "WARNING:tensorflow:Using a while_loop for converting RngReadAndSkip cause there is no registered converter for this op.\n",
            "WARNING:tensorflow:Using a while_loop for converting Bitcast cause there is no registered converter for this op.\n",
            "WARNING:tensorflow:Using a while_loop for converting Bitcast cause there is no registered converter for this op.\n",
            "WARNING:tensorflow:Using a while_loop for converting StatelessRandomUniformV2 cause there is no registered converter for this op.\n",
            "WARNING:tensorflow:Using a while_loop for converting ImageProjectiveTransformV3 cause there is no registered converter for this op.\n"
          ]
        },
        {
          "output_type": "stream",
          "name": "stdout",
          "text": [
            "Model: \"model_2\"\n",
            "_________________________________________________________________\n",
            " Layer (type)                Output Shape              Param #   \n",
            "=================================================================\n",
            " input_6 (InputLayer)        [(None, 360, 360, 3)]     0         \n",
            "                                                                 \n",
            " tf.__operators__.getitem_2   (None, 360, 360, 3)      0         \n",
            " (SlicingOpLambda)                                               \n",
            "                                                                 \n",
            " tf.nn.bias_add_2 (TFOpLambd  (None, 360, 360, 3)      0         \n",
            " a)                                                              \n",
            "                                                                 \n",
            " sequential_1 (Sequential)   (None, 360, 360, 3)       0         \n",
            "                                                                 \n",
            " vgg16 (Functional)          (None, 11, 11, 512)       14714688  \n",
            "                                                                 \n",
            " global_average_pooling2d_2   (None, 512)              0         \n",
            " (GlobalAveragePooling2D)                                        \n",
            "                                                                 \n",
            " dense_6 (Dense)             (None, 4096)              2101248   \n",
            "                                                                 \n",
            " dense_7 (Dense)             (None, 1072)              4391984   \n",
            "                                                                 \n",
            " dropout_3 (Dropout)         (None, 1072)              0         \n",
            "                                                                 \n",
            " dense_8 (Dense)             (None, 8)                 8584      \n",
            "                                                                 \n",
            "=================================================================\n",
            "Total params: 21,216,504\n",
            "Trainable params: 6,501,816\n",
            "Non-trainable params: 14,714,688\n",
            "_________________________________________________________________\n"
          ]
        }
      ]
    },
    {
      "cell_type": "code",
      "source": [
        "history = model.fit(x= X_train, y=y_train,\n",
        "                    epochs = 10, \n",
        "                    validation_data=(X_val, y_val),\n",
        "                    verbose=1)"
      ],
      "metadata": {
        "colab": {
          "base_uri": "https://localhost:8080/"
        },
        "id": "x-ShghE_Y6xc",
        "outputId": "f5e2e7c8-f38e-4b0d-a33b-b7b1df2428ec"
      },
      "execution_count": 35,
      "outputs": [
        {
          "output_type": "stream",
          "name": "stdout",
          "text": [
            "Epoch 1/10\n"
          ]
        },
        {
          "output_type": "stream",
          "name": "stderr",
          "text": [
            "WARNING:tensorflow:Using a while_loop for converting RngReadAndSkip cause there is no registered converter for this op.\n",
            "WARNING:tensorflow:Using a while_loop for converting Bitcast cause there is no registered converter for this op.\n",
            "WARNING:tensorflow:Using a while_loop for converting Bitcast cause there is no registered converter for this op.\n",
            "WARNING:tensorflow:Using a while_loop for converting StatelessRandomUniformV2 cause there is no registered converter for this op.\n",
            "WARNING:tensorflow:Using a while_loop for converting ImageProjectiveTransformV3 cause there is no registered converter for this op.\n",
            "WARNING:tensorflow:Using a while_loop for converting RngReadAndSkip cause there is no registered converter for this op.\n",
            "WARNING:tensorflow:Using a while_loop for converting Bitcast cause there is no registered converter for this op.\n",
            "WARNING:tensorflow:Using a while_loop for converting Bitcast cause there is no registered converter for this op.\n",
            "WARNING:tensorflow:Using a while_loop for converting StatelessRandomUniformV2 cause there is no registered converter for this op.\n",
            "WARNING:tensorflow:Using a while_loop for converting ImageProjectiveTransformV3 cause there is no registered converter for this op.\n"
          ]
        },
        {
          "output_type": "stream",
          "name": "stdout",
          "text": [
            "256/256 [==============================] - 26s 92ms/step - loss: 1.2910 - accuracy: 0.6249 - val_loss: 0.5521 - val_accuracy: 0.8074\n",
            "Epoch 2/10\n",
            "256/256 [==============================] - 22s 88ms/step - loss: 0.5975 - accuracy: 0.7878 - val_loss: 0.4586 - val_accuracy: 0.8358\n",
            "Epoch 3/10\n",
            "256/256 [==============================] - 22s 88ms/step - loss: 0.4880 - accuracy: 0.8339 - val_loss: 0.4270 - val_accuracy: 0.8446\n",
            "Epoch 4/10\n",
            "256/256 [==============================] - 22s 88ms/step - loss: 0.4195 - accuracy: 0.8560 - val_loss: 0.3713 - val_accuracy: 0.8700\n",
            "Epoch 5/10\n",
            "256/256 [==============================] - 22s 88ms/step - loss: 0.4226 - accuracy: 0.8522 - val_loss: 0.5248 - val_accuracy: 0.8084\n",
            "Epoch 6/10\n",
            "256/256 [==============================] - 23s 89ms/step - loss: 0.3688 - accuracy: 0.8688 - val_loss: 0.3378 - val_accuracy: 0.8773\n",
            "Epoch 7/10\n",
            "256/256 [==============================] - 22s 88ms/step - loss: 0.3534 - accuracy: 0.8747 - val_loss: 0.3783 - val_accuracy: 0.8612\n",
            "Epoch 8/10\n",
            "256/256 [==============================] - 23s 88ms/step - loss: 0.3322 - accuracy: 0.8827 - val_loss: 0.3499 - val_accuracy: 0.8724\n",
            "Epoch 9/10\n",
            "256/256 [==============================] - 23s 88ms/step - loss: 0.3118 - accuracy: 0.8929 - val_loss: 0.3526 - val_accuracy: 0.8666\n",
            "Epoch 10/10\n",
            "256/256 [==============================] - 23s 88ms/step - loss: 0.3010 - accuracy: 0.8965 - val_loss: 0.4108 - val_accuracy: 0.8710\n"
          ]
        }
      ]
    },
    {
      "cell_type": "code",
      "source": [
        "\n",
        "# plot the loss\n",
        "plt.plot(history.history['loss'], label='train loss')\n",
        "plt.plot(history.history['val_loss'], label='val loss')\n",
        "plt.legend()\n",
        "plt.show()\n",
        "\n",
        "# plot the accuracy\n",
        "plt.plot(history.history['accuracy'], label='train acc')\n",
        "plt.plot(history.history['val_accuracy'], label='val acc')\n",
        "plt.legend()\n",
        "plt.show()"
      ],
      "metadata": {
        "id": "mqd1yGmdPRSZ",
        "colab": {
          "base_uri": "https://localhost:8080/",
          "height": 513
        },
        "outputId": "543bf6c5-e040-42b8-f2b8-17ad7de199d0"
      },
      "execution_count": 36,
      "outputs": [
        {
          "output_type": "display_data",
          "data": {
            "text/plain": [
              "<Figure size 432x288 with 1 Axes>"
            ],
            "image/png": "[encoded data removed]"
          },
          "metadata": {
            "needs_background": "light"
          }
        },
        {
          "output_type": "display_data",
          "data": {
            "text/plain": [
              "<Figure size 432x288 with 1 Axes>"
            ],
            "image/png": "[encoded data removed]"
          },
          "metadata": {
            "needs_background": "light"
          }
        }
      ]
    },
    {
      "cell_type": "code",
      "source": [],
      "metadata": {
        "id": "NfQAhg4eY67a"
      },
      "execution_count": null,
      "outputs": []
    },
    {
      "cell_type": "code",
      "source": [],
      "metadata": {
        "id": "xBtGNCjbZSWc"
      },
      "execution_count": null,
      "outputs": []
    },
    {
      "cell_type": "code",
      "source": [
        "# Generate predictions\n",
        "\n",
        "from sklearn.metrics import accuracy_score, f1_score\n",
        "\n",
        "predicted = model.predict(X_test)                        # predicted values or probabilities?\n",
        "predicted_classes = np.argmax(predicted, axis=-1)        # predicted classes\n",
        "\n",
        "true_classes = np.argmax(y_test, axis=-1)                # equal to y_test\n",
        "\n",
        "acc_score = accuracy_score(true_classes, predicted_classes)\n",
        "f1_score = f1_score(true_classes, predicted_classes, average=\"weighted\")\n",
        "\n",
        "print(f\"Model Accuracy without Fine-Tuning: {round(acc_score * 100, 2)}\")\n",
        "print(f\"Model F1 Score without Fine-Tuning: {round(f1_score * 100, 2)}\")"
      ],
      "metadata": {
        "id": "rVhMwbexPQf3",
        "colab": {
          "base_uri": "https://localhost:8080/"
        },
        "outputId": "b497fcf2-39a4-4263-fbc7-e3f29eddf7af"
      },
      "execution_count": 37,
      "outputs": [
        {
          "output_type": "stream",
          "name": "stdout",
          "text": [
            "80/80 [==============================] - 3s 34ms/step\n",
            "Model Accuracy without Fine-Tuning: 84.87\n",
            "Model F1 Score without Fine-Tuning: 84.85\n"
          ]
        }
      ]
    },
    {
      "cell_type": "code",
      "source": [
        "#classification report\n",
        "from sklearn import metrics\n",
        "print(metrics.classification_report(true_classes, predicted_classes))"
      ],
      "metadata": {
        "id": "aoUjsy2GPQlq",
        "colab": {
          "base_uri": "https://localhost:8080/"
        },
        "outputId": "ad455fae-1e25-4f9b-f2fe-9bd1cef66d51"
      },
      "execution_count": 38,
      "outputs": [
        {
          "output_type": "stream",
          "name": "stdout",
          "text": [
            "              precision    recall  f1-score   support\n",
            "\n",
            "           0       0.98      0.77      0.86       334\n",
            "           1       0.75      0.93      0.83       318\n",
            "           2       0.95      0.84      0.89       320\n",
            "           3       0.84      0.86      0.85       331\n",
            "           4       0.68      0.94      0.79       306\n",
            "           5       0.90      0.64      0.75       316\n",
            "           6       0.91      0.82      0.86       310\n",
            "           7       0.91      1.00      0.95       322\n",
            "\n",
            "    accuracy                           0.85      2557\n",
            "   macro avg       0.87      0.85      0.85      2557\n",
            "weighted avg       0.87      0.85      0.85      2557\n",
            "\n"
          ]
        }
      ]
    },
    {
      "cell_type": "code",
      "source": [
        "import itertools\n",
        "\n",
        "cnf_matrix = metrics.confusion_matrix(true_classes, predicted_classes)\n",
        "print(cnf_matrix)\n",
        "classes = range(0,8)\n",
        "\n",
        "plt.figure()\n",
        "\n",
        "plt.imshow(cnf_matrix, interpolation='nearest',cmap='Blues')\n",
        "plt.title(\"confusion matrix\")\n",
        "plt.colorbar()\n",
        "tick_marks = np.arange(len(classes))\n",
        "plt.xticks(tick_marks, classes)\n",
        "plt.yticks(tick_marks, classes)\n",
        "\n",
        "for i, j in itertools.product(range(cnf_matrix.shape[0]), range(cnf_matrix.shape[1])):\n",
        "    plt.text(j, i, cnf_matrix[i, j],\n",
        "             horizontalalignment=\"center\",\n",
        "             color=\"white\" if cnf_matrix[i, j] > ( cnf_matrix.max() / 2) else \"black\")\n",
        "\n",
        "plt.ylabel('Actual values')\n",
        "plt.xlabel('Predicted values')\n",
        "plt.show()"
      ],
      "metadata": {
        "id": "3NvE1hNqPRbT",
        "colab": {
          "base_uri": "https://localhost:8080/",
          "height": 431
        },
        "outputId": "3cc6f92b-c185-4a2a-fa79-f750b1cc6aed"
      },
      "execution_count": 39,
      "outputs": [
        {
          "output_type": "stream",
          "name": "stdout",
          "text": [
            "[[258  26   4  25  13   4   1   3]\n",
            " [  1 295   1   2   8   0  11   0]\n",
            " [  0   3 269   6  24   0   0  18]\n",
            " [  1  16   4 286   9   9   3   3]\n",
            " [  0   5   2   1 287   5   4   2]\n",
            " [  1  30   0  14  61 201   7   2]\n",
            " [  2  18   3   5  22   4 253   3]\n",
            " [  0   1   0   0   0   0   0 321]]\n"
          ]
        },
        {
          "output_type": "display_data",
          "data": {
            "text/plain": [
              "<Figure size 432x288 with 2 Axes>"
            ],
            "image/png": "[encoded data removed]"
          },
          "metadata": {
            "needs_background": "light"
          }
        }
      ]
    },
    {
      "cell_type": "code",
      "source": [
        "# Fine Tuning\n",
        "\n",
        "model = create_model(len(df['label'].unique()), 5)\n",
        "model.summary()\n",
        "\n",
        "optimizer = Adam(learning_rate=0.0001)\n",
        "\n",
        "# Compiles the model for training.\n",
        "model.compile(optimizer=optimizer, \n",
        "                  loss='categorical_crossentropy',\n",
        "                  metrics=['accuracy'])"
      ],
      "metadata": {
        "id": "s1mAt461PRdy",
        "colab": {
          "base_uri": "https://localhost:8080/"
        },
        "outputId": "45528cb3-4be7-4943-ac3d-6538f0d081f4"
      },
      "execution_count": 46,
      "outputs": [
        {
          "output_type": "stream",
          "name": "stderr",
          "text": [
            "WARNING:tensorflow:Using a while_loop for converting RngReadAndSkip cause there is no registered converter for this op.\n",
            "WARNING:tensorflow:Using a while_loop for converting Bitcast cause there is no registered converter for this op.\n",
            "WARNING:tensorflow:Using a while_loop for converting Bitcast cause there is no registered converter for this op.\n",
            "WARNING:tensorflow:Using a while_loop for converting StatelessRandomUniformV2 cause there is no registered converter for this op.\n",
            "WARNING:tensorflow:Using a while_loop for converting ImageProjectiveTransformV3 cause there is no registered converter for this op.\n"
          ]
        },
        {
          "output_type": "stream",
          "name": "stdout",
          "text": [
            "Model: \"model_5\"\n",
            "_________________________________________________________________\n",
            " Layer (type)                Output Shape              Param #   \n",
            "=================================================================\n",
            " input_12 (InputLayer)       [(None, 360, 360, 3)]     0         \n",
            "                                                                 \n",
            " tf.__operators__.getitem_5   (None, 360, 360, 3)      0         \n",
            " (SlicingOpLambda)                                               \n",
            "                                                                 \n",
            " tf.nn.bias_add_5 (TFOpLambd  (None, 360, 360, 3)      0         \n",
            " a)                                                              \n",
            "                                                                 \n",
            " sequential_1 (Sequential)   (None, 360, 360, 3)       0         \n",
            "                                                                 \n",
            " vgg16 (Functional)          (None, 11, 11, 512)       14714688  \n",
            "                                                                 \n",
            " global_average_pooling2d_5   (None, 512)              0         \n",
            " (GlobalAveragePooling2D)                                        \n",
            "                                                                 \n",
            " dense_15 (Dense)            (None, 4096)              2101248   \n",
            "                                                                 \n",
            " dense_16 (Dense)            (None, 1072)              4391984   \n",
            "                                                                 \n",
            " dropout_6 (Dropout)         (None, 1072)              0         \n",
            "                                                                 \n",
            " dense_17 (Dense)            (None, 8)                 8584      \n",
            "                                                                 \n",
            "=================================================================\n",
            "Total params: 21,216,504\n",
            "Trainable params: 13,581,240\n",
            "Non-trainable params: 7,635,264\n",
            "_________________________________________________________________\n"
          ]
        }
      ]
    },
    {
      "cell_type": "code",
      "source": [
        "history = model.fit(x= X_train, y=y_train,\n",
        "                    epochs = 10, \n",
        "                    validation_data=(X_val, y_val),\n",
        "                    verbose=1)"
      ],
      "metadata": {
        "colab": {
          "base_uri": "https://localhost:8080/"
        },
        "id": "7vFEZmAgfsuT",
        "outputId": "9bf0c9d2-3bd9-404c-df41-0228164b8341"
      },
      "execution_count": 47,
      "outputs": [
        {
          "output_type": "stream",
          "name": "stdout",
          "text": [
            "Epoch 1/10\n"
          ]
        },
        {
          "output_type": "stream",
          "name": "stderr",
          "text": [
            "WARNING:tensorflow:Using a while_loop for converting RngReadAndSkip cause there is no registered converter for this op.\n",
            "WARNING:tensorflow:Using a while_loop for converting Bitcast cause there is no registered converter for this op.\n",
            "WARNING:tensorflow:Using a while_loop for converting Bitcast cause there is no registered converter for this op.\n",
            "WARNING:tensorflow:Using a while_loop for converting StatelessRandomUniformV2 cause there is no registered converter for this op.\n",
            "WARNING:tensorflow:Using a while_loop for converting ImageProjectiveTransformV3 cause there is no registered converter for this op.\n",
            "WARNING:tensorflow:Using a while_loop for converting RngReadAndSkip cause there is no registered converter for this op.\n",
            "WARNING:tensorflow:Using a while_loop for converting Bitcast cause there is no registered converter for this op.\n",
            "WARNING:tensorflow:Using a while_loop for converting Bitcast cause there is no registered converter for this op.\n",
            "WARNING:tensorflow:Using a while_loop for converting StatelessRandomUniformV2 cause there is no registered converter for this op.\n",
            "WARNING:tensorflow:Using a while_loop for converting ImageProjectiveTransformV3 cause there is no registered converter for this op.\n"
          ]
        },
        {
          "output_type": "stream",
          "name": "stdout",
          "text": [
            "256/256 [==============================] - 27s 95ms/step - loss: 0.6336 - accuracy: 0.7817 - val_loss: 0.2770 - val_accuracy: 0.9135\n",
            "Epoch 2/10\n",
            "256/256 [==============================] - 24s 92ms/step - loss: 0.2154 - accuracy: 0.9320 - val_loss: 0.2141 - val_accuracy: 0.9316\n",
            "Epoch 3/10\n",
            "256/256 [==============================] - 24s 92ms/step - loss: 0.1570 - accuracy: 0.9505 - val_loss: 0.1843 - val_accuracy: 0.9448\n",
            "Epoch 4/10\n",
            "256/256 [==============================] - 24s 93ms/step - loss: 0.1158 - accuracy: 0.9624 - val_loss: 0.3689 - val_accuracy: 0.9057\n",
            "Epoch 5/10\n",
            "256/256 [==============================] - 24s 92ms/step - loss: 0.1051 - accuracy: 0.9675 - val_loss: 0.1669 - val_accuracy: 0.9462\n",
            "Epoch 6/10\n",
            "256/256 [==============================] - 24s 92ms/step - loss: 0.0908 - accuracy: 0.9718 - val_loss: 0.1086 - val_accuracy: 0.9677\n",
            "Epoch 7/10\n",
            "256/256 [==============================] - 24s 92ms/step - loss: 0.0736 - accuracy: 0.9763 - val_loss: 0.1061 - val_accuracy: 0.9692\n",
            "Epoch 8/10\n",
            "256/256 [==============================] - 24s 92ms/step - loss: 0.0692 - accuracy: 0.9762 - val_loss: 0.1200 - val_accuracy: 0.9653\n",
            "Epoch 9/10\n",
            "256/256 [==============================] - 24s 92ms/step - loss: 0.0650 - accuracy: 0.9781 - val_loss: 0.1133 - val_accuracy: 0.9658\n",
            "Epoch 10/10\n",
            "256/256 [==============================] - 24s 92ms/step - loss: 0.0503 - accuracy: 0.9823 - val_loss: 0.0947 - val_accuracy: 0.9751\n"
          ]
        }
      ]
    },
    {
      "cell_type": "code",
      "source": [
        "\n",
        "# plot the loss\n",
        "plt.plot(history.history['loss'], label='train loss')\n",
        "plt.plot(history.history['val_loss'], label='val loss')\n",
        "plt.legend()\n",
        "plt.show()\n",
        "\n",
        "# plot the accuracy\n",
        "plt.plot(history.history['accuracy'], label='train acc')\n",
        "plt.plot(history.history['val_accuracy'], label='val acc')\n",
        "plt.legend()\n",
        "plt.show()"
      ],
      "metadata": {
        "colab": {
          "base_uri": "https://localhost:8080/",
          "height": 513
        },
        "id": "KvDWwxAHfs5K",
        "outputId": "e544bcfd-861c-47b9-bf48-33f4ddad6929"
      },
      "execution_count": 48,
      "outputs": [
        {
          "output_type": "display_data",
          "data": {
            "text/plain": [
              "<Figure size 432x288 with 1 Axes>"
            ],
            "image/png": "[encoded data removed]"
          },
          "metadata": {
            "needs_background": "light"
          }
        },
        {
          "output_type": "display_data",
          "data": {
            "text/plain": [
              "<Figure size 432x288 with 1 Axes>"
            ],
            "image/png": "[encoded data removed]"
          },
          "metadata": {
            "needs_background": "light"
          }
        }
      ]
    },
    {
      "cell_type": "code",
      "source": [
        "from sklearn.metrics import accuracy_score, f1_score\n",
        "\n",
        "predicted = model.predict(X_test)                        # predicted values or probabilities?\n",
        "predicted_classes = np.argmax(predicted, axis=-1)        # predicted classes\n",
        "\n",
        "true_classes = np.argmax(y_test, axis=-1)                # equal to y_test\n",
        "\n",
        "acc_score = accuracy_score(true_classes, predicted_classes)\n",
        "f1_score = f1_score(true_classes, predicted_classes, average=\"weighted\")\n",
        "\n",
        "print(f\"Model Accuracy with Fine-Tuning: {round(acc_score * 100, 2)}\")\n",
        "print(f\"Model F1 Score with Fine-Tuning: {round(f1_score * 100, 2)}\")"
      ],
      "metadata": {
        "colab": {
          "base_uri": "https://localhost:8080/"
        },
        "id": "305ZTBy8fs-m",
        "outputId": "ffdab616-ab20-4626-e98f-7a7b0ace79a5"
      },
      "execution_count": 49,
      "outputs": [
        {
          "output_type": "stream",
          "name": "stdout",
          "text": [
            "80/80 [==============================] - 3s 34ms/step\n",
            "Model Accuracy with Fine-Tuning: 96.25\n",
            "Model F1 Score with Fine-Tuning: 96.24\n"
          ]
        }
      ]
    },
    {
      "cell_type": "code",
      "source": [
        "#classification report\n",
        "from sklearn import metrics\n",
        "print(metrics.classification_report(true_classes, predicted_classes))"
      ],
      "metadata": {
        "colab": {
          "base_uri": "https://localhost:8080/"
        },
        "id": "M8kA6W3pftEJ",
        "outputId": "31e15890-8288-46ec-ae03-3dd48239d39d"
      },
      "execution_count": 50,
      "outputs": [
        {
          "output_type": "stream",
          "name": "stdout",
          "text": [
            "              precision    recall  f1-score   support\n",
            "\n",
            "           0       0.94      0.98      0.96       334\n",
            "           1       1.00      0.98      0.99       318\n",
            "           2       0.97      0.99      0.98       320\n",
            "           3       0.93      0.96      0.94       331\n",
            "           4       0.97      0.91      0.94       306\n",
            "           5       0.92      0.97      0.95       316\n",
            "           6       0.97      0.91      0.94       310\n",
            "           7       1.00      1.00      1.00       322\n",
            "\n",
            "    accuracy                           0.96      2557\n",
            "   macro avg       0.96      0.96      0.96      2557\n",
            "weighted avg       0.96      0.96      0.96      2557\n",
            "\n"
          ]
        }
      ]
    },
    {
      "cell_type": "code",
      "source": [
        "import itertools\n",
        "\n",
        "cnf_matrix = metrics.confusion_matrix(true_classes, predicted_classes)\n",
        "print(cnf_matrix)\n",
        "classes = range(0,8)\n",
        "\n",
        "plt.figure()\n",
        "\n",
        "plt.imshow(cnf_matrix, interpolation='nearest',cmap='Blues')\n",
        "plt.title(\"confusion matrix\")\n",
        "plt.colorbar()\n",
        "tick_marks = np.arange(len(classes))\n",
        "plt.xticks(tick_marks, classes)\n",
        "plt.yticks(tick_marks, classes)\n",
        "\n",
        "for i, j in itertools.product(range(cnf_matrix.shape[0]), range(cnf_matrix.shape[1])):\n",
        "    plt.text(j, i, cnf_matrix[i, j],\n",
        "             horizontalalignment=\"center\",\n",
        "             color=\"white\" if cnf_matrix[i, j] > ( cnf_matrix.max() / 2) else \"black\")\n",
        "\n",
        "plt.ylabel('Actual values')\n",
        "plt.xlabel('Predicted values')\n",
        "plt.show()"
      ],
      "metadata": {
        "colab": {
          "base_uri": "https://localhost:8080/",
          "height": 431
        },
        "id": "FfROwfwqr42o",
        "outputId": "baf740c1-b4dd-4edc-e5b9-7050a425a7ae"
      },
      "execution_count": 51,
      "outputs": [
        {
          "output_type": "stream",
          "name": "stdout",
          "text": [
            "[[328   0   0   4   1   1   0   0]\n",
            " [  1 311   0   1   1   0   4   0]\n",
            " [  0   0 316   2   1   1   0   0]\n",
            " [  3   0   2 317   2   7   0   0]\n",
            " [  4   0   5   1 279  14   3   0]\n",
            " [  1   0   0   4   3 307   1   0]\n",
            " [ 11   1   3  11   1   2 281   0]\n",
            " [  0   0   0   0   0   0   0 322]]\n"
          ]
        },
        {
          "output_type": "display_data",
          "data": {
            "text/plain": [
              "<Figure size 432x288 with 2 Axes>"
            ],
            "image/png": "[encoded data removed]"
          },
          "metadata": {
            "needs_background": "light"
          }
        }
      ]
    },
    {
      "cell_type": "code",
      "source": [
        "#Save model\n",
        "from tensorflow.keras.models import save_model\n",
        "save_model(model, \"/MyDrive/MyDrive/DataScience/vgg16_augmented_model.h5\")"
      ],
      "metadata": {
        "id": "Lbh9G4x3VrUg"
      },
      "execution_count": 52,
      "outputs": []
    },
    {
      "cell_type": "code",
      "source": [
        "#Displayed Actual values & Predicted values column wise\n",
        "df_tested = pd.DataFrame(zip(true_classes, predicted_classes),\n",
        "                  columns=['Actual Value', 'Predicted Value'])\n",
        "\n",
        "predicted_classes_name = df_tested['Predicted Value'].map( {0:'basophil',\n",
        "                                                            1: 'neutrophil',\n",
        "                                                            2: 'monocyte',\n",
        "                                                            3: 'lymphocyte',\n",
        "                                                            4: 'platelet',\n",
        "                                                            5: 'eosinophil',\n",
        "                                                            6: 'ig',\n",
        "                                                            7: 'erythroblast'}).astype(str)\n",
        "\n",
        "df_tested['Predicted Class'] = predicted_classes_name\n",
        "df_tested"
      ],
      "metadata": {
        "colab": {
          "base_uri": "https://localhost:8080/",
          "height": 419
        },
        "id": "KlUerfwh1UfU",
        "outputId": "882572d8-c352-4cf5-a7e1-c06ebb3cb96b"
      },
      "execution_count": 53,
      "outputs": [
        {
          "output_type": "execute_result",
          "data": {
            "text/plain": [
              "      Actual Value  Predicted Value Predicted Class\n",
              "0                3                3      lymphocyte\n",
              "1                7                7    erythroblast\n",
              "2                4                4        platelet\n",
              "3                6                6              ig\n",
              "4                4                5      eosinophil\n",
              "...            ...              ...             ...\n",
              "2552             3                3      lymphocyte\n",
              "2553             4                4        platelet\n",
              "2554             0                0        basophil\n",
              "2555             6                6              ig\n",
              "2556             0                0        basophil\n",
              "\n",
              "[2557 rows x 3 columns]"
            ],
            "text/html": [
              "\n",
              "  <div id=\"df-7ed542e6-e9c4-49b6-bd07-f93e1f560af8\">\n",
              "    <div class=\"colab-df-container\">\n",
              "      <div>\n",
              "<style scoped>\n",
              "    .dataframe tbody tr th:only-of-type {\n",
              "        vertical-align: middle;\n",
              "    }\n",
              "\n",
              "    .dataframe tbody tr th {\n",
              "        vertical-align: top;\n",
              "    }\n",
              "\n",
              "    .dataframe thead th {\n",
              "        text-align: right;\n",
              "    }\n",
              "</style>\n",
              "<table border=\"1\" class=\"dataframe\">\n",
              "  <thead>\n",
              "    <tr style=\"text-align: right;\">\n",
              "      <th></th>\n",
              "      <th>Actual Value</th>\n",
              "      <th>Predicted Value</th>\n",
              "      <th>Predicted Class</th>\n",
              "    </tr>\n",
              "  </thead>\n",
              "  <tbody>\n",
              "    <tr>\n",
              "      <th>0</th>\n",
              "      <td>3</td>\n",
              "      <td>3</td>\n",
              "      <td>lymphocyte</td>\n",
              "    </tr>\n",
              "    <tr>\n",
              "      <th>1</th>\n",
              "      <td>7</td>\n",
              "      <td>7</td>\n",
              "      <td>erythroblast</td>\n",
              "    </tr>\n",
              "    <tr>\n",
              "      <th>2</th>\n",
              "      <td>4</td>\n",
              "      <td>4</td>\n",
              "      <td>platelet</td>\n",
              "    </tr>\n",
              "    <tr>\n",
              "      <th>3</th>\n",
              "      <td>6</td>\n",
              "      <td>6</td>\n",
              "      <td>ig</td>\n",
              "    </tr>\n",
              "    <tr>\n",
              "      <th>4</th>\n",
              "      <td>4</td>\n",
              "      <td>5</td>\n",
              "      <td>eosinophil</td>\n",
              "    </tr>\n",
              "    <tr>\n",
              "      <th>...</th>\n",
              "      <td>...</td>\n",
              "      <td>...</td>\n",
              "      <td>...</td>\n",
              "    </tr>\n",
              "    <tr>\n",
              "      <th>2552</th>\n",
              "      <td>3</td>\n",
              "      <td>3</td>\n",
              "      <td>lymphocyte</td>\n",
              "    </tr>\n",
              "    <tr>\n",
              "      <th>2553</th>\n",
              "      <td>4</td>\n",
              "      <td>4</td>\n",
              "      <td>platelet</td>\n",
              "    </tr>\n",
              "    <tr>\n",
              "      <th>2554</th>\n",
              "      <td>0</td>\n",
              "      <td>0</td>\n",
              "      <td>basophil</td>\n",
              "    </tr>\n",
              "    <tr>\n",
              "      <th>2555</th>\n",
              "      <td>6</td>\n",
              "      <td>6</td>\n",
              "      <td>ig</td>\n",
              "    </tr>\n",
              "    <tr>\n",
              "      <th>2556</th>\n",
              "      <td>0</td>\n",
              "      <td>0</td>\n",
              "      <td>basophil</td>\n",
              "    </tr>\n",
              "  </tbody>\n",
              "</table>\n",
              "<p>2557 rows × 3 columns</p>\n",
              "</div>\n",
              "      <button class=\"colab-df-convert\" onclick=\"convertToInteractive('df-7ed542e6-e9c4-49b6-bd07-f93e1f560af8')\"\n",
              "              title=\"Convert this dataframe to an interactive table.\"\n",
              "              style=\"display:none;\">\n",
              "        \n",
              "  <svg xmlns=\"http://www.w3.org/2000/svg\" height=\"24px\"viewBox=\"0 0 24 24\"\n",
              "       width=\"24px\">\n",
              "    <path d=\"M0 0h24v24H0V0z\" fill=\"none\"/>\n",
              "    <path d=\"M18.56 5.44l.94 2.06.94-2.06 2.06-.94-2.06-.94-.94-2.06-.94 2.06-2.06.94zm-11 1L8.5 8.5l.94-2.06 2.06-.94-2.06-.94L8.5 2.5l-.94 2.06-2.06.94zm10 10l.94 2.06.94-2.06 2.06-.94-2.06-.94-.94-2.06-.94 2.06-2.06.94z\"/><path d=\"M17.41 7.96l-1.37-1.37c-.4-.4-.92-.59-1.43-.59-.52 0-1.04.2-1.43.59L10.3 9.45l-7.72 7.72c-.78.78-.78 2.05 0 2.83L4 21.41c.39.39.9.59 1.41.59.51 0 1.02-.2 1.41-.59l7.78-7.78 2.81-2.81c.8-.78.8-2.07 0-2.86zM5.41 20L4 18.59l7.72-7.72 1.47 1.35L5.41 20z\"/>\n",
              "  </svg>\n",
              "      </button>\n",
              "      \n",
              "  <style>\n",
              "    .colab-df-container {\n",
              "      display:flex;\n",
              "      flex-wrap:wrap;\n",
              "      gap: 12px;\n",
              "    }\n",
              "\n",
              "    .colab-df-convert {\n",
              "      background-color: #E8F0FE;\n",
              "      border: none;\n",
              "      border-radius: 50%;\n",
              "      cursor: pointer;\n",
              "      display: none;\n",
              "      fill: #1967D2;\n",
              "      height: 32px;\n",
              "      padding: 0 0 0 0;\n",
              "      width: 32px;\n",
              "    }\n",
              "\n",
              "    .colab-df-convert:hover {\n",
              "      background-color: #E2EBFA;\n",
              "      box-shadow: 0px 1px 2px rgba(60, 64, 67, 0.3), 0px 1px 3px 1px rgba(60, 64, 67, 0.15);\n",
              "      fill: #174EA6;\n",
              "    }\n",
              "\n",
              "    [theme=dark] .colab-df-convert {\n",
              "      background-color: #3B4455;\n",
              "      fill: #D2E3FC;\n",
              "    }\n",
              "\n",
              "    [theme=dark] .colab-df-convert:hover {\n",
              "      background-color: #434B5C;\n",
              "      box-shadow: 0px 1px 3px 1px rgba(0, 0, 0, 0.15);\n",
              "      filter: drop-shadow(0px 1px 2px rgba(0, 0, 0, 0.3));\n",
              "      fill: #FFFFFF;\n",
              "    }\n",
              "  </style>\n",
              "\n",
              "      <script>\n",
              "        const buttonEl =\n",
              "          document.querySelector('#df-7ed542e6-e9c4-49b6-bd07-f93e1f560af8 button.colab-df-convert');\n",
              "        buttonEl.style.display =\n",
              "          google.colab.kernel.accessAllowed ? 'block' : 'none';\n",
              "\n",
              "        async function convertToInteractive(key) {\n",
              "          const element = document.querySelector('#df-7ed542e6-e9c4-49b6-bd07-f93e1f560af8');\n",
              "          const dataTable =\n",
              "            await google.colab.kernel.invokeFunction('convertToInteractive',\n",
              "                                                     [key], {});\n",
              "          if (!dataTable) return;\n",
              "\n",
              "          const docLinkHtml = 'Like what you see? Visit the ' +\n",
              "            '<a target=\"_blank\" href=https://colab.research.google.com/notebooks/data_table.ipynb>data table notebook</a>'\n",
              "            + ' to learn more about interactive tables.';\n",
              "          element.innerHTML = '';\n",
              "          dataTable['output_type'] = 'display_data';\n",
              "          await google.colab.output.renderOutput(dataTable, element);\n",
              "          const docLink = document.createElement('div');\n",
              "          docLink.innerHTML = docLinkHtml;\n",
              "          element.appendChild(docLink);\n",
              "        }\n",
              "      </script>\n",
              "    </div>\n",
              "  </div>\n",
              "  "
            ]
          },
          "metadata": {},
          "execution_count": 53
        }
      ]
    }
  ]
}