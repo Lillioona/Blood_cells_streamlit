{
  "nbformat": 4,
  "nbformat_minor": 0,
  "metadata": {
    "colab": {
      "provenance": []
    },
    "kernelspec": {
      "name": "python3",
      "display_name": "Python 3"
    },
    "language_info": {
      "name": "python"
    },
    "gpuClass": "premium",
    "accelerator": "GPU"
  },
  "cells": [
    {
      "cell_type": "code",
      "execution_count": 1,
      "metadata": {
        "id": "7ksfZypmKUo4"
      },
      "outputs": [],
      "source": [
        "import os\n",
        "from pathlib import Path\n",
        "import numpy as np\n",
        "import pandas as pd\n",
        "from PIL import Image\n",
        "import cv2\n",
        "import matplotlib.pyplot as plt\n",
        "%matplotlib inline \n",
        "import tensorflow as tf\n",
        "\n",
        "from keras.models import Model\n",
        "from keras.optimizers import Adam\n",
        "from keras.applications.vgg16 import VGG16, preprocess_input\n",
        "from keras.preprocessing.image import ImageDataGenerator\n",
        "from keras.callbacks import ModelCheckpoint, EarlyStopping, ReduceLROnPlateau\n",
        "from keras.layers import Dense, Dropout, Flatten\n",
        "\n",
        "\n",
        "from sklearn.metrics import accuracy_score\n",
        "from sklearn.model_selection import train_test_split\n",
        "from sklearn.preprocessing import LabelEncoder\n",
        "from sklearn.utils import shuffle\n",
        "#from keras.layers import Concatenate\n",
        "\n",
        "from tensorflow.keras import layers\n",
        "from tensorflow.keras import Input\n",
        "from tensorflow.keras.utils import to_categorical"
      ]
    },
    {
      "cell_type": "code",
      "source": [
        "from google.colab import drive\n",
        "drive.mount('/MyDrive')\n"
      ],
      "metadata": {
        "colab": {
          "base_uri": "https://localhost:8080/"
        },
        "id": "oMoMxgbaKfqY",
        "outputId": "b331cced-346c-482e-9ec5-789b7266d386"
      },
      "execution_count": 4,
      "outputs": [
        {
          "output_type": "stream",
          "name": "stdout",
          "text": [
            "Mounted at /MyDrive\n"
          ]
        }
      ]
    },
    {
      "cell_type": "code",
      "source": [
        "df = pd.read_pickle(\"/MyDrive/MyDrive/DataScience/even_class.pkl\")\n",
        "df.info()"
      ],
      "metadata": {
        "colab": {
          "base_uri": "https://localhost:8080/"
        },
        "id": "nG_GFUyuItQe",
        "outputId": "ea8ee104-e2ca-4bc2-915b-6a36354d9a31"
      },
      "execution_count": 6,
      "outputs": [
        {
          "output_type": "stream",
          "name": "stdout",
          "text": [
            "<class 'pandas.core.frame.DataFrame'>\n",
            "RangeIndex: 12784 entries, 0 to 12783\n",
            "Data columns (total 2 columns):\n",
            " #   Column    Non-Null Count  Dtype \n",
            "---  ------    --------------  ----- \n",
            " 0   label     12784 non-null  object\n",
            " 1   img_data  12784 non-null  object\n",
            "dtypes: object(2)\n",
            "memory usage: 199.9+ KB\n"
          ]
        }
      ]
    },
    {
      "cell_type": "code",
      "source": [
        "df['label'].value_counts()"
      ],
      "metadata": {
        "colab": {
          "base_uri": "https://localhost:8080/"
        },
        "id": "j-xz_kVvWcgn",
        "outputId": "b9c90a83-71ff-4a27-8aa7-74dda5a55868"
      },
      "execution_count": 7,
      "outputs": [
        {
          "output_type": "execute_result",
          "data": {
            "text/plain": [
              "basophil        1598\n",
              "neutrophil      1598\n",
              "monocyte        1598\n",
              "lymphocyte      1598\n",
              "platelet        1598\n",
              "eosinophil      1598\n",
              "ig              1598\n",
              "erythroblast    1598\n",
              "Name: label, dtype: int64"
            ]
          },
          "metadata": {},
          "execution_count": 7
        }
      ]
    },
    {
      "cell_type": "code",
      "source": [
        "encoder = LabelEncoder()\n",
        "df['label'] = encoder.fit_transform(df.label)\n",
        "df['label'].value_counts()"
      ],
      "metadata": {
        "colab": {
          "base_uri": "https://localhost:8080/"
        },
        "id": "KIUwYvje8soS",
        "outputId": "24b1161e-ef57-47ee-abaa-5f80c9b369b6"
      },
      "execution_count": 8,
      "outputs": [
        {
          "output_type": "execute_result",
          "data": {
            "text/plain": [
              "0    1598\n",
              "6    1598\n",
              "5    1598\n",
              "4    1598\n",
              "7    1598\n",
              "1    1598\n",
              "3    1598\n",
              "2    1598\n",
              "Name: label, dtype: int64"
            ]
          },
          "metadata": {},
          "execution_count": 8
        }
      ]
    },
    {
      "cell_type": "code",
      "source": [
        "#Dispaly an img_data\n",
        "plt.imshow(df['img_data'].iloc[600])"
      ],
      "metadata": {
        "colab": {
          "base_uri": "https://localhost:8080/",
          "height": 286
        },
        "id": "m2TkAzBKOwq1",
        "outputId": "de16a2c9-32b0-4607-930a-0089923a7b1c"
      },
      "execution_count": null,
      "outputs": [
        {
          "output_type": "execute_result",
          "data": {
            "text/plain": [
              "<matplotlib.image.AxesImage at 0x7f84635897f0>"
            ]
          },
          "metadata": {},
          "execution_count": 6
        },
        {
          "output_type": "display_data",
          "data": {
            "text/plain": [
              "<Figure size 432x288 with 1 Axes>"
            ],
            "image/png": "[encoded data removed]"
          },
          "metadata": {
            "needs_background": "light"
          }
        }
      ]
    },
    {
      "cell_type": "code",
      "source": [
        "# Shuffle the DataFrame, and split into train, validation and test sets\n",
        "\n",
        "shuffled_df = df.sample(frac=1)\n"
      ],
      "metadata": {
        "id": "qnCfhXC4Ow2K"
      },
      "execution_count": 9,
      "outputs": []
    },
    {
      "cell_type": "code",
      "source": [
        "data = df.img_data\n",
        "target = df.label\n",
        "\n",
        "#train test split\n",
        "X_train, X_test, y_train, y_test = train_test_split(data, target, test_size=.2)\n",
        "\n",
        "#train validation split\n",
        "X_train, X_val, y_train, y_val = train_test_split(X_train, y_train, test_size=.2)\n"
      ],
      "metadata": {
        "id": "xq0XgCVT-P2J"
      },
      "execution_count": 10,
      "outputs": []
    },
    {
      "cell_type": "code",
      "source": [
        "\n",
        "print(len(X_train), len(y_train))\n",
        "print(len(X_val), len(y_val))\n",
        "print(len(X_test), len(y_test))"
      ],
      "metadata": {
        "colab": {
          "base_uri": "https://localhost:8080/"
        },
        "id": "LgvDs6iwXBBT",
        "outputId": "da8282e5-d1da-48c9-fe52-86ab70c278ff"
      },
      "execution_count": 11,
      "outputs": [
        {
          "output_type": "stream",
          "name": "stdout",
          "text": [
            "8181 8181\n",
            "2046 2046\n",
            "2557 2557\n"
          ]
        }
      ]
    },
    {
      "cell_type": "code",
      "source": [
        "X_train = np.stack(X_train, axis=0)\n",
        "X_val = np.stack(X_val, axis=0)\n",
        "X_test = np.stack(X_test, axis=0)"
      ],
      "metadata": {
        "id": "uPuc98s8-P7o"
      },
      "execution_count": 12,
      "outputs": []
    },
    {
      "cell_type": "code",
      "source": [
        "y_train = to_categorical(y_train)\n",
        "y_val = to_categorical(y_val)\n",
        "y_test = to_categorical(y_test)"
      ],
      "metadata": {
        "id": "sT0u_u1jBuAG"
      },
      "execution_count": 13,
      "outputs": []
    },
    {
      "cell_type": "code",
      "source": [
        "#augmentation layer\n",
        "\n",
        "data_augmentation = tf.keras.Sequential([\n",
        "    layers.experimental.preprocessing.RandomFlip(\"horizontal_and_vertical\"),\n",
        "    layers.experimental.preprocessing.RandomRotation(0.2), \n",
        "    #layers.experimental.preprocessing.Rescaling(1./255),\n",
        "    layers.experimental.preprocessing.RandomZoom(height_factor=(0.2, 0.3), width_factor=(0.2, 0.3)),\n",
        "    layers.experimental.preprocessing.RandomTranslation(0.3, 0.3)\n",
        "    ])"
      ],
      "metadata": {
        "id": "SJIV95GEXrxs"
      },
      "execution_count": 15,
      "outputs": []
    },
    {
      "cell_type": "code",
      "source": [],
      "metadata": {
        "id": "6bndTngtlJnm"
      },
      "execution_count": null,
      "outputs": []
    },
    {
      "cell_type": "code",
      "source": [
        "# Define the Model\n",
        "\n",
        "def create_model(n_labels, fine_tune = 0):\n",
        "    base_model = VGG16(include_top=False, weights='imagenet', input_shape=(360, 360, 3))\n",
        "    \n",
        "    if fine_tune > 0:\n",
        "        for layer in base_model.layers[:-fine_tune]:\n",
        "            layer.trainable = False\n",
        "    else:\n",
        "        for layer in base_model.layers:\n",
        "            layer.trainable = False\n",
        "            \n",
        "    inputs    = Input(shape=(360, 360, 3))\n",
        "    rescale   = preprocess_input(inputs)\n",
        "    augmented = data_augmentation(rescale)\n",
        "    vgg16     = base_model(rescale)\n",
        "    pooling   = layers.GlobalAveragePooling2D()(vgg16)\n",
        "    dense1     = Dense(1024, activation='relu')(pooling)\n",
        "    dropout1   = Dropout(rate=0.2)(dense1)\n",
        "    dense2     = Dense(512, activation='relu')(dropout1)\n",
        "    dropout2   = Dropout(0.2)(dense2)\n",
        "    outputs   = Dense(n_labels, activation='softmax')(dropout2)\n",
        "    model     = Model(inputs=inputs, outputs=outputs)\n",
        "\n",
        "    return model"
      ],
      "metadata": {
        "id": "33CGxWjnPQAk"
      },
      "execution_count": 16,
      "outputs": []
    },
    {
      "cell_type": "code",
      "source": [
        "model = create_model(len(df['label'].unique()))\n",
        "model.summary()\n",
        "\n",
        "optimizer = Adam(learning_rate=0.001)\n",
        "\n",
        "# Compiles the model for training.\n",
        "model.compile(optimizer=optimizer, \n",
        "                  loss='categorical_crossentropy',\n",
        "                  metrics=['accuracy'])\n"
      ],
      "metadata": {
        "colab": {
          "base_uri": "https://localhost:8080/"
        },
        "id": "PLsWJKiIPQaG",
        "outputId": "6e3396eb-554e-4235-c91f-9ee8b6b0f475"
      },
      "execution_count": 17,
      "outputs": [
        {
          "output_type": "stream",
          "name": "stdout",
          "text": [
            "Downloading data from https://storage.googleapis.com/tensorflow/keras-applications/vgg16/vgg16_weights_tf_dim_ordering_tf_kernels_notop.h5\n",
            "58889256/58889256 [==============================] - 0s 0us/step\n"
          ]
        },
        {
          "output_type": "stream",
          "name": "stderr",
          "text": [
            "WARNING:tensorflow:Using a while_loop for converting RngReadAndSkip cause there is no registered converter for this op.\n",
            "WARNING:tensorflow:Using a while_loop for converting Bitcast cause there is no registered converter for this op.\n",
            "WARNING:tensorflow:Using a while_loop for converting Bitcast cause there is no registered converter for this op.\n",
            "WARNING:tensorflow:Using a while_loop for converting StatelessRandomUniformV2 cause there is no registered converter for this op.\n",
            "WARNING:tensorflow:Using a while_loop for converting ImageProjectiveTransformV3 cause there is no registered converter for this op.\n",
            "WARNING:tensorflow:Using a while_loop for converting RngReadAndSkip cause there is no registered converter for this op.\n",
            "WARNING:tensorflow:Using a while_loop for converting Bitcast cause there is no registered converter for this op.\n",
            "WARNING:tensorflow:Using a while_loop for converting Bitcast cause there is no registered converter for this op.\n",
            "WARNING:tensorflow:Using a while_loop for converting StatelessRandomUniformV2 cause there is no registered converter for this op.\n",
            "WARNING:tensorflow:Using a while_loop for converting RngReadAndSkip cause there is no registered converter for this op.\n",
            "WARNING:tensorflow:Using a while_loop for converting Bitcast cause there is no registered converter for this op.\n",
            "WARNING:tensorflow:Using a while_loop for converting Bitcast cause there is no registered converter for this op.\n",
            "WARNING:tensorflow:Using a while_loop for converting StatelessRandomUniformV2 cause there is no registered converter for this op.\n",
            "WARNING:tensorflow:Using a while_loop for converting ImageProjectiveTransformV3 cause there is no registered converter for this op.\n",
            "WARNING:tensorflow:Using a while_loop for converting RngReadAndSkip cause there is no registered converter for this op.\n",
            "WARNING:tensorflow:Using a while_loop for converting Bitcast cause there is no registered converter for this op.\n",
            "WARNING:tensorflow:Using a while_loop for converting Bitcast cause there is no registered converter for this op.\n",
            "WARNING:tensorflow:Using a while_loop for converting StatelessRandomUniformV2 cause there is no registered converter for this op.\n",
            "WARNING:tensorflow:Using a while_loop for converting RngReadAndSkip cause there is no registered converter for this op.\n",
            "WARNING:tensorflow:Using a while_loop for converting Bitcast cause there is no registered converter for this op.\n",
            "WARNING:tensorflow:Using a while_loop for converting Bitcast cause there is no registered converter for this op.\n",
            "WARNING:tensorflow:Using a while_loop for converting StatelessRandomUniformV2 cause there is no registered converter for this op.\n",
            "WARNING:tensorflow:Using a while_loop for converting RngReadAndSkip cause there is no registered converter for this op.\n",
            "WARNING:tensorflow:Using a while_loop for converting Bitcast cause there is no registered converter for this op.\n",
            "WARNING:tensorflow:Using a while_loop for converting Bitcast cause there is no registered converter for this op.\n",
            "WARNING:tensorflow:Using a while_loop for converting StatelessRandomUniformV2 cause there is no registered converter for this op.\n",
            "WARNING:tensorflow:Using a while_loop for converting ImageProjectiveTransformV3 cause there is no registered converter for this op.\n",
            "WARNING:tensorflow:Using a while_loop for converting RngReadAndSkip cause there is no registered converter for this op.\n",
            "WARNING:tensorflow:Using a while_loop for converting Bitcast cause there is no registered converter for this op.\n",
            "WARNING:tensorflow:Using a while_loop for converting Bitcast cause there is no registered converter for this op.\n",
            "WARNING:tensorflow:Using a while_loop for converting StatelessRandomUniformV2 cause there is no registered converter for this op.\n",
            "WARNING:tensorflow:Using a while_loop for converting RngReadAndSkip cause there is no registered converter for this op.\n",
            "WARNING:tensorflow:Using a while_loop for converting Bitcast cause there is no registered converter for this op.\n",
            "WARNING:tensorflow:Using a while_loop for converting Bitcast cause there is no registered converter for this op.\n",
            "WARNING:tensorflow:Using a while_loop for converting StatelessRandomUniformV2 cause there is no registered converter for this op.\n",
            "WARNING:tensorflow:Using a while_loop for converting ImageProjectiveTransformV3 cause there is no registered converter for this op.\n",
            "WARNING:tensorflow:Using a while_loop for converting RngReadAndSkip cause there is no registered converter for this op.\n",
            "WARNING:tensorflow:Using a while_loop for converting Bitcast cause there is no registered converter for this op.\n",
            "WARNING:tensorflow:Using a while_loop for converting Bitcast cause there is no registered converter for this op.\n",
            "WARNING:tensorflow:Using a while_loop for converting StatelessRandomUniformV2 cause there is no registered converter for this op.\n",
            "WARNING:tensorflow:Using a while_loop for converting RngReadAndSkip cause there is no registered converter for this op.\n",
            "WARNING:tensorflow:Using a while_loop for converting Bitcast cause there is no registered converter for this op.\n",
            "WARNING:tensorflow:Using a while_loop for converting Bitcast cause there is no registered converter for this op.\n",
            "WARNING:tensorflow:Using a while_loop for converting StatelessRandomUniformV2 cause there is no registered converter for this op.\n"
          ]
        },
        {
          "output_type": "stream",
          "name": "stdout",
          "text": [
            "Model: \"model\"\n",
            "_________________________________________________________________\n",
            " Layer (type)                Output Shape              Param #   \n",
            "=================================================================\n",
            " input_2 (InputLayer)        [(None, 360, 360, 3)]     0         \n",
            "                                                                 \n",
            " tf.__operators__.getitem (S  (None, 360, 360, 3)      0         \n",
            " licingOpLambda)                                                 \n",
            "                                                                 \n",
            " tf.nn.bias_add (TFOpLambda)  (None, 360, 360, 3)      0         \n",
            "                                                                 \n",
            " vgg16 (Functional)          (None, 11, 11, 512)       14714688  \n",
            "                                                                 \n",
            " global_average_pooling2d (G  (None, 512)              0         \n",
            " lobalAveragePooling2D)                                          \n",
            "                                                                 \n",
            " dense (Dense)               (None, 1024)              525312    \n",
            "                                                                 \n",
            " dropout (Dropout)           (None, 1024)              0         \n",
            "                                                                 \n",
            " dense_1 (Dense)             (None, 512)               524800    \n",
            "                                                                 \n",
            " dropout_1 (Dropout)         (None, 512)               0         \n",
            "                                                                 \n",
            " dense_2 (Dense)             (None, 8)                 4104      \n",
            "                                                                 \n",
            "=================================================================\n",
            "Total params: 15,768,904\n",
            "Trainable params: 1,054,216\n",
            "Non-trainable params: 14,714,688\n",
            "_________________________________________________________________\n"
          ]
        }
      ]
    },
    {
      "cell_type": "code",
      "source": [
        "history = model.fit(x= X_train, y=y_train,\n",
        "                    epochs = 10, \n",
        "                    validation_data=(X_val, y_val),\n",
        "                    verbose=1)"
      ],
      "metadata": {
        "colab": {
          "base_uri": "https://localhost:8080/"
        },
        "id": "x-ShghE_Y6xc",
        "outputId": "7335e1fe-4ba5-4d5a-f383-056a41cb5cf2"
      },
      "execution_count": 18,
      "outputs": [
        {
          "output_type": "stream",
          "name": "stdout",
          "text": [
            "Epoch 1/10\n",
            "256/256 [==============================] - 25s 55ms/step - loss: 1.2125 - accuracy: 0.6053 - val_loss: 0.6211 - val_accuracy: 0.7722\n",
            "Epoch 2/10\n",
            "256/256 [==============================] - 11s 44ms/step - loss: 0.6524 - accuracy: 0.7762 - val_loss: 0.6285 - val_accuracy: 0.7786\n",
            "Epoch 3/10\n",
            "256/256 [==============================] - 11s 45ms/step - loss: 0.5333 - accuracy: 0.8137 - val_loss: 0.4345 - val_accuracy: 0.8568\n",
            "Epoch 4/10\n",
            "256/256 [==============================] - 11s 45ms/step - loss: 0.4650 - accuracy: 0.8379 - val_loss: 0.3831 - val_accuracy: 0.8749\n",
            "Epoch 5/10\n",
            "256/256 [==============================] - 11s 45ms/step - loss: 0.4200 - accuracy: 0.8574 - val_loss: 0.3714 - val_accuracy: 0.8749\n",
            "Epoch 6/10\n",
            "256/256 [==============================] - 12s 45ms/step - loss: 0.3814 - accuracy: 0.8666 - val_loss: 0.4778 - val_accuracy: 0.8392\n",
            "Epoch 7/10\n",
            "256/256 [==============================] - 11s 45ms/step - loss: 0.3451 - accuracy: 0.8797 - val_loss: 0.3487 - val_accuracy: 0.8817\n",
            "Epoch 8/10\n",
            "256/256 [==============================] - 12s 45ms/step - loss: 0.3469 - accuracy: 0.8776 - val_loss: 0.3322 - val_accuracy: 0.8915\n",
            "Epoch 9/10\n",
            "256/256 [==============================] - 11s 45ms/step - loss: 0.2976 - accuracy: 0.8927 - val_loss: 0.3442 - val_accuracy: 0.8837\n",
            "Epoch 10/10\n",
            "256/256 [==============================] - 11s 45ms/step - loss: 0.3067 - accuracy: 0.8886 - val_loss: 0.3617 - val_accuracy: 0.8759\n"
          ]
        }
      ]
    },
    {
      "cell_type": "code",
      "source": [
        "\n",
        "# plot the loss\n",
        "plt.plot(history.history['loss'], label='train loss')\n",
        "plt.plot(history.history['val_loss'], label='val loss')\n",
        "plt.legend()\n",
        "plt.show()\n",
        "\n",
        "# plot the accuracy\n",
        "plt.plot(history.history['accuracy'], label='train acc')\n",
        "plt.plot(history.history['val_accuracy'], label='val acc')\n",
        "plt.legend()\n",
        "plt.show()"
      ],
      "metadata": {
        "id": "mqd1yGmdPRSZ",
        "colab": {
          "base_uri": "https://localhost:8080/",
          "height": 513
        },
        "outputId": "112deb5d-9c09-415f-ac85-29607fffd194"
      },
      "execution_count": 19,
      "outputs": [
        {
          "output_type": "display_data",
          "data": {
            "text/plain": [
              "<Figure size 432x288 with 1 Axes>"
            ],
            "image/png": "[encoded data removed]"
          },
          "metadata": {
            "needs_background": "light"
          }
        },
        {
          "output_type": "display_data",
          "data": {
            "text/plain": [
              "<Figure size 432x288 with 1 Axes>"
            ],
            "image/png": "[encoded data removed]"
          },
          "metadata": {
            "needs_background": "light"
          }
        }
      ]
    },
    {
      "cell_type": "code",
      "source": [],
      "metadata": {
        "id": "NfQAhg4eY67a"
      },
      "execution_count": null,
      "outputs": []
    },
    {
      "cell_type": "code",
      "source": [],
      "metadata": {
        "id": "xBtGNCjbZSWc"
      },
      "execution_count": null,
      "outputs": []
    },
    {
      "cell_type": "code",
      "source": [
        "# Generate predictions\n",
        "\n",
        "from sklearn.metrics import accuracy_score, f1_score\n",
        "\n",
        "predicted = model.predict(X_test)                        # predicted values or probabilities?\n",
        "predicted_classes = np.argmax(predicted, axis=-1)        # predicted classes\n",
        "\n",
        "true_classes = np.argmax(y_test, axis=-1)                # equal to y_test\n",
        "\n",
        "acc_score = accuracy_score(true_classes, predicted_classes)\n",
        "f1_score = f1_score(true_classes, predicted_classes, average=\"weighted\")\n",
        "\n",
        "print(f\"Model Accuracy without Fine-Tuning: {round(acc_score * 100, 2)}\")\n",
        "print(f\"Model F1 Score without Fine-Tuning: {round(f1_score * 100, 2)}\")"
      ],
      "metadata": {
        "id": "rVhMwbexPQf3",
        "colab": {
          "base_uri": "https://localhost:8080/"
        },
        "outputId": "a5a417c4-f80e-4129-f46d-2e488f50f089"
      },
      "execution_count": 20,
      "outputs": [
        {
          "output_type": "stream",
          "name": "stdout",
          "text": [
            "80/80 [==============================] - 4s 44ms/step\n",
            "Model Accuracy without Fine-Tuning: 86.62\n",
            "Model F1 Score without Fine-Tuning: 86.52\n"
          ]
        }
      ]
    },
    {
      "cell_type": "code",
      "source": [
        "#classification report\n",
        "from sklearn import metrics\n",
        "print(metrics.classification_report(true_classes, predicted_classes))"
      ],
      "metadata": {
        "id": "aoUjsy2GPQlq",
        "colab": {
          "base_uri": "https://localhost:8080/"
        },
        "outputId": "ba0a2657-b734-4f5f-94e3-b0d5f7dca3ed"
      },
      "execution_count": 21,
      "outputs": [
        {
          "output_type": "stream",
          "name": "stdout",
          "text": [
            "              precision    recall  f1-score   support\n",
            "\n",
            "           0       0.84      0.93      0.88       300\n",
            "           1       0.76      0.92      0.83       334\n",
            "           2       0.97      0.81      0.89       320\n",
            "           3       0.85      0.81      0.83       324\n",
            "           4       0.89      0.89      0.89       310\n",
            "           5       0.93      0.70      0.80       323\n",
            "           6       0.83      0.89      0.86       327\n",
            "           7       0.91      0.98      0.95       319\n",
            "\n",
            "    accuracy                           0.87      2557\n",
            "   macro avg       0.87      0.87      0.87      2557\n",
            "weighted avg       0.87      0.87      0.87      2557\n",
            "\n"
          ]
        }
      ]
    },
    {
      "cell_type": "code",
      "source": [
        "import itertools\n",
        "\n",
        "cnf_matrix = metrics.confusion_matrix(true_classes, predicted_classes)\n",
        "print(cnf_matrix)\n",
        "classes = range(0,8)\n",
        "\n",
        "plt.figure()\n",
        "\n",
        "plt.imshow(cnf_matrix, interpolation='nearest',cmap='Blues')\n",
        "plt.title(\"confusion matrix\")\n",
        "plt.colorbar()\n",
        "tick_marks = np.arange(len(classes))\n",
        "plt.xticks(tick_marks, classes)\n",
        "plt.yticks(tick_marks, classes)\n",
        "\n",
        "for i, j in itertools.product(range(cnf_matrix.shape[0]), range(cnf_matrix.shape[1])):\n",
        "    plt.text(j, i, cnf_matrix[i, j],\n",
        "             horizontalalignment=\"center\",\n",
        "             color=\"white\" if cnf_matrix[i, j] > ( cnf_matrix.max() / 2) else \"black\")\n",
        "\n",
        "plt.ylabel('Actual values')\n",
        "plt.xlabel('Predicted values')\n",
        "plt.show()"
      ],
      "metadata": {
        "id": "3NvE1hNqPRbT",
        "colab": {
          "base_uri": "https://localhost:8080/",
          "height": 431
        },
        "outputId": "0799edb4-c57d-4f7f-867f-d3c046337661"
      },
      "execution_count": 22,
      "outputs": [
        {
          "output_type": "stream",
          "name": "stdout",
          "text": [
            "[[278   7   0   9   0   1   5   0]\n",
            " [  3 308   0   3   1   1  18   0]\n",
            " [  6   5 260   9   7   0   4  29]\n",
            " [ 19  23   2 263   3   5   9   0]\n",
            " [  8   5   3   4 276   7   6   1]\n",
            " [ 12  34   2  20  13 225  17   0]\n",
            " [  3  22   0   1   8   2 291   0]\n",
            " [  1   1   0   0   3   0   0 314]]\n"
          ]
        },
        {
          "output_type": "display_data",
          "data": {
            "text/plain": [
              "<Figure size 432x288 with 2 Axes>"
            ],
            "image/png": "[encoded data removed]"
          },
          "metadata": {
            "needs_background": "light"
          }
        }
      ]
    },
    {
      "cell_type": "code",
      "source": [
        "# Fine Tuning\n",
        "\n",
        "model = create_model(len(df['label'].unique()), 3)\n",
        "model.summary()\n",
        "\n",
        "optimizer = Adam(learning_rate=0.0001)\n",
        "\n",
        "# Compiles the model for training.\n",
        "model.compile(optimizer=optimizer, \n",
        "                  loss='categorical_crossentropy',\n",
        "                  metrics=['accuracy'])"
      ],
      "metadata": {
        "id": "s1mAt461PRdy",
        "colab": {
          "base_uri": "https://localhost:8080/"
        },
        "outputId": "03a0bdd2-d8ce-46f9-b112-f3f60b4353f5"
      },
      "execution_count": 23,
      "outputs": [
        {
          "output_type": "stream",
          "name": "stderr",
          "text": [
            "WARNING:tensorflow:Using a while_loop for converting RngReadAndSkip cause there is no registered converter for this op.\n",
            "WARNING:tensorflow:Using a while_loop for converting Bitcast cause there is no registered converter for this op.\n",
            "WARNING:tensorflow:Using a while_loop for converting Bitcast cause there is no registered converter for this op.\n",
            "WARNING:tensorflow:Using a while_loop for converting StatelessRandomUniformV2 cause there is no registered converter for this op.\n",
            "WARNING:tensorflow:Using a while_loop for converting ImageProjectiveTransformV3 cause there is no registered converter for this op.\n",
            "WARNING:tensorflow:Using a while_loop for converting RngReadAndSkip cause there is no registered converter for this op.\n",
            "WARNING:tensorflow:Using a while_loop for converting Bitcast cause there is no registered converter for this op.\n",
            "WARNING:tensorflow:Using a while_loop for converting Bitcast cause there is no registered converter for this op.\n",
            "WARNING:tensorflow:Using a while_loop for converting StatelessRandomUniformV2 cause there is no registered converter for this op.\n",
            "WARNING:tensorflow:Using a while_loop for converting RngReadAndSkip cause there is no registered converter for this op.\n",
            "WARNING:tensorflow:Using a while_loop for converting Bitcast cause there is no registered converter for this op.\n",
            "WARNING:tensorflow:Using a while_loop for converting Bitcast cause there is no registered converter for this op.\n",
            "WARNING:tensorflow:Using a while_loop for converting StatelessRandomUniformV2 cause there is no registered converter for this op.\n",
            "WARNING:tensorflow:Using a while_loop for converting ImageProjectiveTransformV3 cause there is no registered converter for this op.\n",
            "WARNING:tensorflow:Using a while_loop for converting RngReadAndSkip cause there is no registered converter for this op.\n",
            "WARNING:tensorflow:Using a while_loop for converting Bitcast cause there is no registered converter for this op.\n",
            "WARNING:tensorflow:Using a while_loop for converting Bitcast cause there is no registered converter for this op.\n",
            "WARNING:tensorflow:Using a while_loop for converting StatelessRandomUniformV2 cause there is no registered converter for this op.\n",
            "WARNING:tensorflow:Using a while_loop for converting RngReadAndSkip cause there is no registered converter for this op.\n",
            "WARNING:tensorflow:Using a while_loop for converting Bitcast cause there is no registered converter for this op.\n",
            "WARNING:tensorflow:Using a while_loop for converting Bitcast cause there is no registered converter for this op.\n",
            "WARNING:tensorflow:Using a while_loop for converting StatelessRandomUniformV2 cause there is no registered converter for this op.\n"
          ]
        },
        {
          "output_type": "stream",
          "name": "stdout",
          "text": [
            "Model: \"model_1\"\n",
            "_________________________________________________________________\n",
            " Layer (type)                Output Shape              Param #   \n",
            "=================================================================\n",
            " input_4 (InputLayer)        [(None, 360, 360, 3)]     0         \n",
            "                                                                 \n",
            " tf.__operators__.getitem_1   (None, 360, 360, 3)      0         \n",
            " (SlicingOpLambda)                                               \n",
            "                                                                 \n",
            " tf.nn.bias_add_1 (TFOpLambd  (None, 360, 360, 3)      0         \n",
            " a)                                                              \n",
            "                                                                 \n",
            " vgg16 (Functional)          (None, 11, 11, 512)       14714688  \n",
            "                                                                 \n",
            " global_average_pooling2d_1   (None, 512)              0         \n",
            " (GlobalAveragePooling2D)                                        \n",
            "                                                                 \n",
            " dense_3 (Dense)             (None, 1024)              525312    \n",
            "                                                                 \n",
            " dropout_2 (Dropout)         (None, 1024)              0         \n",
            "                                                                 \n",
            " dense_4 (Dense)             (None, 512)               524800    \n",
            "                                                                 \n",
            " dropout_3 (Dropout)         (None, 512)               0         \n",
            "                                                                 \n",
            " dense_5 (Dense)             (None, 8)                 4104      \n",
            "                                                                 \n",
            "=================================================================\n",
            "Total params: 15,768,904\n",
            "Trainable params: 5,773,832\n",
            "Non-trainable params: 9,995,072\n",
            "_________________________________________________________________\n"
          ]
        }
      ]
    },
    {
      "cell_type": "code",
      "source": [
        "history = model.fit(x= X_train, y=y_train,\n",
        "                    epochs = 10, \n",
        "                    validation_data=(X_val, y_val),\n",
        "                    verbose=1)"
      ],
      "metadata": {
        "colab": {
          "base_uri": "https://localhost:8080/"
        },
        "id": "7vFEZmAgfsuT",
        "outputId": "ddac88f2-6999-4de1-984f-a131685a5793"
      },
      "execution_count": 24,
      "outputs": [
        {
          "output_type": "stream",
          "name": "stdout",
          "text": [
            "Epoch 1/10\n",
            "256/256 [==============================] - 15s 52ms/step - loss: 0.6897 - accuracy: 0.7640 - val_loss: 0.2259 - val_accuracy: 0.9301\n",
            "Epoch 2/10\n",
            "256/256 [==============================] - 12s 47ms/step - loss: 0.2285 - accuracy: 0.9273 - val_loss: 0.2479 - val_accuracy: 0.9203\n",
            "Epoch 3/10\n",
            "256/256 [==============================] - 12s 47ms/step - loss: 0.1363 - accuracy: 0.9538 - val_loss: 0.1718 - val_accuracy: 0.9467\n",
            "Epoch 4/10\n",
            "256/256 [==============================] - 12s 47ms/step - loss: 0.1038 - accuracy: 0.9672 - val_loss: 0.1532 - val_accuracy: 0.9501\n",
            "Epoch 5/10\n",
            "256/256 [==============================] - 12s 47ms/step - loss: 0.0718 - accuracy: 0.9773 - val_loss: 0.1701 - val_accuracy: 0.9545\n",
            "Epoch 6/10\n",
            "256/256 [==============================] - 12s 47ms/step - loss: 0.0506 - accuracy: 0.9846 - val_loss: 0.1573 - val_accuracy: 0.9575\n",
            "Epoch 7/10\n",
            "256/256 [==============================] - 12s 47ms/step - loss: 0.0372 - accuracy: 0.9874 - val_loss: 0.1668 - val_accuracy: 0.9550\n",
            "Epoch 8/10\n",
            "256/256 [==============================] - 12s 47ms/step - loss: 0.0305 - accuracy: 0.9905 - val_loss: 0.1572 - val_accuracy: 0.9589\n",
            "Epoch 9/10\n",
            "256/256 [==============================] - 12s 47ms/step - loss: 0.0333 - accuracy: 0.9884 - val_loss: 0.1671 - val_accuracy: 0.9629\n",
            "Epoch 10/10\n",
            "256/256 [==============================] - 12s 47ms/step - loss: 0.0261 - accuracy: 0.9923 - val_loss: 0.1731 - val_accuracy: 0.9541\n"
          ]
        }
      ]
    },
    {
      "cell_type": "code",
      "source": [
        "\n",
        "# plot the loss\n",
        "plt.plot(history.history['loss'], label='train loss')\n",
        "plt.plot(history.history['val_loss'], label='val loss')\n",
        "plt.legend()\n",
        "plt.show()\n",
        "\n",
        "# plot the accuracy\n",
        "plt.plot(history.history['accuracy'], label='train acc')\n",
        "plt.plot(history.history['val_accuracy'], label='val acc')\n",
        "plt.legend()\n",
        "plt.show()"
      ],
      "metadata": {
        "colab": {
          "base_uri": "https://localhost:8080/",
          "height": 514
        },
        "id": "KvDWwxAHfs5K",
        "outputId": "cd0d6a00-67bc-4131-d18e-6a35f51ccb4a"
      },
      "execution_count": 25,
      "outputs": [
        {
          "output_type": "display_data",
          "data": {
            "text/plain": [
              "<Figure size 432x288 with 1 Axes>"
            ],
            "image/png": "[encoded data removed]"
          },
          "metadata": {
            "needs_background": "light"
          }
        },
        {
          "output_type": "display_data",
          "data": {
            "text/plain": [
              "<Figure size 432x288 with 1 Axes>"
            ],
            "image/png": "[encoded data removed]"
          },
          "metadata": {
            "needs_background": "light"
          }
        }
      ]
    },
    {
      "cell_type": "code",
      "source": [
        "from sklearn.metrics import accuracy_score, f1_score\n",
        "\n",
        "predicted = model.predict(X_test)                        # predicted values or probabilities?\n",
        "predicted_classes = np.argmax(predicted, axis=-1)        # predicted classes\n",
        "\n",
        "true_classes = np.argmax(y_test, axis=-1)                # equal to y_test\n",
        "\n",
        "acc_score = accuracy_score(true_classes, predicted_classes)\n",
        "f1_score = f1_score(true_classes, predicted_classes, average=\"weighted\")\n",
        "\n",
        "print(f\"Model Accuracy with Fine-Tuning: {round(acc_score * 100, 2)}\")\n",
        "print(f\"Model F1 Score with Fine-Tuning: {round(f1_score * 100, 2)}\")"
      ],
      "metadata": {
        "colab": {
          "base_uri": "https://localhost:8080/"
        },
        "id": "305ZTBy8fs-m",
        "outputId": "12f1c0fe-460f-42f9-d03c-3b08b100c804"
      },
      "execution_count": 26,
      "outputs": [
        {
          "output_type": "stream",
          "name": "stdout",
          "text": [
            "80/80 [==============================] - 3s 34ms/step\n",
            "Model Accuracy with Fine-Tuning: 96.17\n",
            "Model F1 Score with Fine-Tuning: 96.18\n"
          ]
        }
      ]
    },
    {
      "cell_type": "code",
      "source": [
        "#classification report\n",
        "from sklearn import metrics\n",
        "print(metrics.classification_report(true_classes, predicted_classes))"
      ],
      "metadata": {
        "colab": {
          "base_uri": "https://localhost:8080/"
        },
        "id": "M8kA6W3pftEJ",
        "outputId": "3aa9ae60-c09c-49df-f48a-e72c83228427"
      },
      "execution_count": 27,
      "outputs": [
        {
          "output_type": "stream",
          "name": "stdout",
          "text": [
            "              precision    recall  f1-score   support\n",
            "\n",
            "           0       0.98      0.95      0.96       300\n",
            "           1       0.96      0.99      0.97       334\n",
            "           2       0.99      0.97      0.98       320\n",
            "           3       0.96      0.94      0.95       324\n",
            "           4       0.95      0.95      0.95       310\n",
            "           5       0.88      0.98      0.93       323\n",
            "           6       0.98      0.92      0.95       327\n",
            "           7       1.00      0.99      1.00       319\n",
            "\n",
            "    accuracy                           0.96      2557\n",
            "   macro avg       0.96      0.96      0.96      2557\n",
            "weighted avg       0.96      0.96      0.96      2557\n",
            "\n"
          ]
        }
      ]
    },
    {
      "cell_type": "code",
      "source": [
        "import itertools\n",
        "\n",
        "cnf_matrix = metrics.confusion_matrix(true_classes, predicted_classes)\n",
        "print(cnf_matrix)\n",
        "classes = range(0,8)\n",
        "\n",
        "plt.figure()\n",
        "\n",
        "plt.imshow(cnf_matrix, interpolation='nearest',cmap='Blues')\n",
        "plt.title(\"confusion matrix\")\n",
        "plt.colorbar()\n",
        "tick_marks = np.arange(len(classes))\n",
        "plt.xticks(tick_marks, classes)\n",
        "plt.yticks(tick_marks, classes)\n",
        "\n",
        "for i, j in itertools.product(range(cnf_matrix.shape[0]), range(cnf_matrix.shape[1])):\n",
        "    plt.text(j, i, cnf_matrix[i, j],\n",
        "             horizontalalignment=\"center\",\n",
        "             color=\"white\" if cnf_matrix[i, j] > ( cnf_matrix.max() / 2) else \"black\")\n",
        "\n",
        "plt.ylabel('Actual values')\n",
        "plt.xlabel('Predicted values')\n",
        "plt.show()"
      ],
      "metadata": {
        "colab": {
          "base_uri": "https://localhost:8080/",
          "height": 431
        },
        "id": "FfROwfwqr42o",
        "outputId": "08c1eff9-f2ef-47dc-ef95-ba3cf3d33e56"
      },
      "execution_count": 28,
      "outputs": [
        {
          "output_type": "stream",
          "name": "stdout",
          "text": [
            "[[285   5   0   6   2   1   1   0]\n",
            " [  0 329   0   0   1   3   1   0]\n",
            " [  1   1 312   0   4   0   1   1]\n",
            " [  3   0   0 304   0  15   2   0]\n",
            " [  1   0   2   0 296  11   0   0]\n",
            " [  1   1   0   4   1 316   0   0]\n",
            " [  0   5   0   4   6  12 300   0]\n",
            " [  0   0   1   0   1   0   0 317]]\n"
          ]
        },
        {
          "output_type": "display_data",
          "data": {
            "text/plain": [
              "<Figure size 432x288 with 2 Axes>"
            ],
            "image/png": "[encoded data removed]"
          },
          "metadata": {
            "needs_background": "light"
          }
        }
      ]
    },
    {
      "cell_type": "code",
      "source": [
        "#Save model\n",
        "from tensorflow.keras.models import save_model\n",
        "save_model(model, \"/MyDrive/MyDrive/DataScience/vgg16_model.h5\")"
      ],
      "metadata": {
        "id": "Lbh9G4x3VrUg"
      },
      "execution_count": 29,
      "outputs": []
    },
    {
      "cell_type": "code",
      "source": [
        "#Displayed Actual values & Predicted values column wise\n",
        "df_tested = pd.DataFrame(zip(true_classes, predicted_classes),\n",
        "                  columns=['Actual Value', 'Predicted Value'])\n",
        "\n",
        "predicted_classes_name = df_tested['Predicted Value'].map( {0:'basophil',\n",
        "                                                            1: 'neutrophil',\n",
        "                                                            2: 'monocyte',\n",
        "                                                            3: 'lymphocyte',\n",
        "                                                            4: 'platelet',\n",
        "                                                            5: 'eosinophil',\n",
        "                                                            6: 'ig',\n",
        "                                                            7: 'erythroblast'}).astype(str)\n",
        "\n",
        "df_tested['Predicted Class'] = predicted_classes_name\n",
        "df_tested"
      ],
      "metadata": {
        "colab": {
          "base_uri": "https://localhost:8080/",
          "height": 419
        },
        "id": "KlUerfwh1UfU",
        "outputId": "586a8ae5-4782-4754-a02c-293a90e6365e"
      },
      "execution_count": 30,
      "outputs": [
        {
          "output_type": "execute_result",
          "data": {
            "text/plain": [
              "      Actual Value  Predicted Value Predicted Class\n",
              "0                4                4        platelet\n",
              "1                3                3      lymphocyte\n",
              "2                2                2        monocyte\n",
              "3                4                4        platelet\n",
              "4                5                5      eosinophil\n",
              "...            ...              ...             ...\n",
              "2552             5                5      eosinophil\n",
              "2553             6                6              ig\n",
              "2554             3                3      lymphocyte\n",
              "2555             6                6              ig\n",
              "2556             4                4        platelet\n",
              "\n",
              "[2557 rows x 3 columns]"
            ],
            "text/html": [
              "\n",
              "  <div id=\"df-33f4acc5-5c00-45da-af75-c603f3391a3a\">\n",
              "    <div class=\"colab-df-container\">\n",
              "      <div>\n",
              "<style scoped>\n",
              "    .dataframe tbody tr th:only-of-type {\n",
              "        vertical-align: middle;\n",
              "    }\n",
              "\n",
              "    .dataframe tbody tr th {\n",
              "        vertical-align: top;\n",
              "    }\n",
              "\n",
              "    .dataframe thead th {\n",
              "        text-align: right;\n",
              "    }\n",
              "</style>\n",
              "<table border=\"1\" class=\"dataframe\">\n",
              "  <thead>\n",
              "    <tr style=\"text-align: right;\">\n",
              "      <th></th>\n",
              "      <th>Actual Value</th>\n",
              "      <th>Predicted Value</th>\n",
              "      <th>Predicted Class</th>\n",
              "    </tr>\n",
              "  </thead>\n",
              "  <tbody>\n",
              "    <tr>\n",
              "      <th>0</th>\n",
              "      <td>4</td>\n",
              "      <td>4</td>\n",
              "      <td>platelet</td>\n",
              "    </tr>\n",
              "    <tr>\n",
              "      <th>1</th>\n",
              "      <td>3</td>\n",
              "      <td>3</td>\n",
              "      <td>lymphocyte</td>\n",
              "    </tr>\n",
              "    <tr>\n",
              "      <th>2</th>\n",
              "      <td>2</td>\n",
              "      <td>2</td>\n",
              "      <td>monocyte</td>\n",
              "    </tr>\n",
              "    <tr>\n",
              "      <th>3</th>\n",
              "      <td>4</td>\n",
              "      <td>4</td>\n",
              "      <td>platelet</td>\n",
              "    </tr>\n",
              "    <tr>\n",
              "      <th>4</th>\n",
              "      <td>5</td>\n",
              "      <td>5</td>\n",
              "      <td>eosinophil</td>\n",
              "    </tr>\n",
              "    <tr>\n",
              "      <th>...</th>\n",
              "      <td>...</td>\n",
              "      <td>...</td>\n",
              "      <td>...</td>\n",
              "    </tr>\n",
              "    <tr>\n",
              "      <th>2552</th>\n",
              "      <td>5</td>\n",
              "      <td>5</td>\n",
              "      <td>eosinophil</td>\n",
              "    </tr>\n",
              "    <tr>\n",
              "      <th>2553</th>\n",
              "      <td>6</td>\n",
              "      <td>6</td>\n",
              "      <td>ig</td>\n",
              "    </tr>\n",
              "    <tr>\n",
              "      <th>2554</th>\n",
              "      <td>3</td>\n",
              "      <td>3</td>\n",
              "      <td>lymphocyte</td>\n",
              "    </tr>\n",
              "    <tr>\n",
              "      <th>2555</th>\n",
              "      <td>6</td>\n",
              "      <td>6</td>\n",
              "      <td>ig</td>\n",
              "    </tr>\n",
              "    <tr>\n",
              "      <th>2556</th>\n",
              "      <td>4</td>\n",
              "      <td>4</td>\n",
              "      <td>platelet</td>\n",
              "    </tr>\n",
              "  </tbody>\n",
              "</table>\n",
              "<p>2557 rows × 3 columns</p>\n",
              "</div>\n",
              "      <button class=\"colab-df-convert\" onclick=\"convertToInteractive('df-33f4acc5-5c00-45da-af75-c603f3391a3a')\"\n",
              "              title=\"Convert this dataframe to an interactive table.\"\n",
              "              style=\"display:none;\">\n",
              "        \n",
              "  <svg xmlns=\"http://www.w3.org/2000/svg\" height=\"24px\"viewBox=\"0 0 24 24\"\n",
              "       width=\"24px\">\n",
              "    <path d=\"M0 0h24v24H0V0z\" fill=\"none\"/>\n",
              "    <path d=\"M18.56 5.44l.94 2.06.94-2.06 2.06-.94-2.06-.94-.94-2.06-.94 2.06-2.06.94zm-11 1L8.5 8.5l.94-2.06 2.06-.94-2.06-.94L8.5 2.5l-.94 2.06-2.06.94zm10 10l.94 2.06.94-2.06 2.06-.94-2.06-.94-.94-2.06-.94 2.06-2.06.94z\"/><path d=\"M17.41 7.96l-1.37-1.37c-.4-.4-.92-.59-1.43-.59-.52 0-1.04.2-1.43.59L10.3 9.45l-7.72 7.72c-.78.78-.78 2.05 0 2.83L4 21.41c.39.39.9.59 1.41.59.51 0 1.02-.2 1.41-.59l7.78-7.78 2.81-2.81c.8-.78.8-2.07 0-2.86zM5.41 20L4 18.59l7.72-7.72 1.47 1.35L5.41 20z\"/>\n",
              "  </svg>\n",
              "      </button>\n",
              "      \n",
              "  <style>\n",
              "    .colab-df-container {\n",
              "      display:flex;\n",
              "      flex-wrap:wrap;\n",
              "      gap: 12px;\n",
              "    }\n",
              "\n",
              "    .colab-df-convert {\n",
              "      background-color: #E8F0FE;\n",
              "      border: none;\n",
              "      border-radius: 50%;\n",
              "      cursor: pointer;\n",
              "      display: none;\n",
              "      fill: #1967D2;\n",
              "      height: 32px;\n",
              "      padding: 0 0 0 0;\n",
              "      width: 32px;\n",
              "    }\n",
              "\n",
              "    .colab-df-convert:hover {\n",
              "      background-color: #E2EBFA;\n",
              "      box-shadow: 0px 1px 2px rgba(60, 64, 67, 0.3), 0px 1px 3px 1px rgba(60, 64, 67, 0.15);\n",
              "      fill: #174EA6;\n",
              "    }\n",
              "\n",
              "    [theme=dark] .colab-df-convert {\n",
              "      background-color: #3B4455;\n",
              "      fill: #D2E3FC;\n",
              "    }\n",
              "\n",
              "    [theme=dark] .colab-df-convert:hover {\n",
              "      background-color: #434B5C;\n",
              "      box-shadow: 0px 1px 3px 1px rgba(0, 0, 0, 0.15);\n",
              "      filter: drop-shadow(0px 1px 2px rgba(0, 0, 0, 0.3));\n",
              "      fill: #FFFFFF;\n",
              "    }\n",
              "  </style>\n",
              "\n",
              "      <script>\n",
              "        const buttonEl =\n",
              "          document.querySelector('#df-33f4acc5-5c00-45da-af75-c603f3391a3a button.colab-df-convert');\n",
              "        buttonEl.style.display =\n",
              "          google.colab.kernel.accessAllowed ? 'block' : 'none';\n",
              "\n",
              "        async function convertToInteractive(key) {\n",
              "          const element = document.querySelector('#df-33f4acc5-5c00-45da-af75-c603f3391a3a');\n",
              "          const dataTable =\n",
              "            await google.colab.kernel.invokeFunction('convertToInteractive',\n",
              "                                                     [key], {});\n",
              "          if (!dataTable) return;\n",
              "\n",
              "          const docLinkHtml = 'Like what you see? Visit the ' +\n",
              "            '<a target=\"_blank\" href=https://colab.research.google.com/notebooks/data_table.ipynb>data table notebook</a>'\n",
              "            + ' to learn more about interactive tables.';\n",
              "          element.innerHTML = '';\n",
              "          dataTable['output_type'] = 'display_data';\n",
              "          await google.colab.output.renderOutput(dataTable, element);\n",
              "          const docLink = document.createElement('div');\n",
              "          docLink.innerHTML = docLinkHtml;\n",
              "          element.appendChild(docLink);\n",
              "        }\n",
              "      </script>\n",
              "    </div>\n",
              "  </div>\n",
              "  "
            ]
          },
          "metadata": {},
          "execution_count": 30
        }
      ]
    }
  ]
}